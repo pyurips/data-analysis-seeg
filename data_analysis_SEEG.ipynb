{
  "nbformat": 4,
  "nbformat_minor": 0,
  "metadata": {
    "colab": {
      "name": "data_analysis_SEEG.ipynb",
      "provenance": []
    },
    "kernelspec": {
      "name": "python3",
      "display_name": "Python 3"
    },
    "language_info": {
      "name": "python"
    }
  },
  "cells": [
    {
      "cell_type": "markdown",
      "source": [
        "*by Pablo Yuri*\n",
        "\n",
        "[*github.com/pyurips*](https://github.com/pyurips)\n",
        "\n",
        "![2021-03-13-181358.453634seegbrasilhome2.png](data:image/png;base64,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)\n",
        "\n",
        "O [Sistema de Estimativas de Emissões e Remoções de Gases de Efeito Estufa](https://seeg.eco.br/) (**SEEG**) é uma iniciativa do Observatório do Clima que compreende a produção de estimativas anuais das emissões de gases de efeito estufa (**GEE**) no Brasil, documentos analíticos sobre a evolução das emissões e um portal na internet para disponibilização de forma simples e clara dos métodos e dados do sistema.\n",
        "\n",
        "São avaliados todos os cinco setores que são fontes de emissões – Agropecuária, Energia, Mudanças de Uso da Terra, Processos Industriais e Resíduos com o mesmo grau de detalhamento contido nos inventários de emissões.\n",
        "\n",
        "\n",
        "\n",
        "**A fonte do texto e dos dados serão encontradas** [neste link](https://basedosdados.org/dataset/br-seeg-emissoes).\n",
        "\n",
        "---\n",
        "\n",
        "\n",
        "Abaixo será realizada a *análise e a limpeza dos dados*, objetivando uma visualização clara dos dados por gráficos e a obtenção de insights relacionados as emissões de gases de efeito estufa no território brasileiro."
      ],
      "metadata": {
        "id": "e3Y8GADVf3Dc"
      }
    },
    {
      "cell_type": "markdown",
      "source": [
        "### **Obtenção dos dados e a importação dos módulos necessários**\n",
        "\n",
        "\n",
        "---\n",
        "\n"
      ],
      "metadata": {
        "id": "51-q8XVUlLhJ"
      }
    },
    {
      "cell_type": "code",
      "source": [
        "import numpy as np # biblioteca para manipulação de matrizes e relacionados https://numpy.org/ #\n",
        "import pandas # biblioteca para manipulação e análise de dados https://pandas.pydata.org/ #\n",
        "import matplotlib.pyplot as mpl # biblioteca para visualização de gráficos https://matplotlib.org/ #\n",
        "import seaborn # biblioteca para visualização de gráficos baseada na matplotlib https://seaborn.pydata.org/ #\n",
        "import plotly.express as px # biblioteca de gráficos e mapas interativos https://plotly.com/ #\n",
        "pandas.options.plotting.backend = \"plotly\"\n",
        "\n",
        "dataset = pandas.read_csv(\"dataset_SEEG.csv\") # atribuição da variável \"dataset\" com o objeto do tipo \"DataFrame\""
      ],
      "metadata": {
        "id": "qpeoAt-Kl67A"
      },
      "execution_count": 1,
      "outputs": []
    },
    {
      "cell_type": "markdown",
      "source": [
        "### **Análise geral dos dados**\n",
        "\n",
        "\n",
        "---\n",
        "\n"
      ],
      "metadata": {
        "id": "QXskpxhJre0V"
      }
    },
    {
      "cell_type": "markdown",
      "source": [
        "Primeiramente, faz-se necessário entender como os dados estão organizados, quais são as colunas que estão envolvidas no conjunto e o significado e a relevância de cada uma dessas.\n",
        "\n",
        "Portanto, analisaremos as dez primeiras entradas do conjunto de dados."
      ],
      "metadata": {
        "id": "FV6xPBGurVIl"
      }
    },
    {
      "cell_type": "code",
      "source": [
        "dataset.head(10)"
      ],
      "metadata": {
        "colab": {
          "base_uri": "https://localhost:8080/",
          "height": 0
        },
        "id": "-VLxhAcfpq6N",
        "outputId": "d74945e9-1c45-4ecc-b459-23befe70b503"
      },
      "execution_count": 2,
      "outputs": [
        {
          "output_type": "execute_result",
          "data": {
            "text/plain": [
              "    ano       nivel_1           nivel_2  nivel_3 nivel_4  nivel_5 nivel_6  \\\n",
              "0  1970  Agropecuária  Cultivo do Arroz  Diretas  Outros  Vegetal   Arroz   \n",
              "1  1971  Agropecuária  Cultivo do Arroz  Diretas  Outros  Vegetal   Arroz   \n",
              "2  1972  Agropecuária  Cultivo do Arroz  Diretas  Outros  Vegetal   Arroz   \n",
              "3  1973  Agropecuária  Cultivo do Arroz  Diretas  Outros  Vegetal   Arroz   \n",
              "4  1974  Agropecuária  Cultivo do Arroz  Diretas  Outros  Vegetal   Arroz   \n",
              "5  1975  Agropecuária  Cultivo do Arroz  Diretas  Outros  Vegetal   Arroz   \n",
              "6  1976  Agropecuária  Cultivo do Arroz  Diretas  Outros  Vegetal   Arroz   \n",
              "7  1977  Agropecuária  Cultivo do Arroz  Diretas  Outros  Vegetal   Arroz   \n",
              "8  1978  Agropecuária  Cultivo do Arroz  Diretas  Outros  Vegetal   Arroz   \n",
              "9  1979  Agropecuária  Cultivo do Arroz  Diretas  Outros  Vegetal   Arroz   \n",
              "\n",
              "  tipo_emissao      gas atividade_economica produto    emissao  \n",
              "0      Emissão  CH4 (t)                 NaN     NaN  230462.17  \n",
              "1      Emissão  CH4 (t)                 NaN     NaN  226016.30  \n",
              "2      Emissão  CH4 (t)                 NaN     NaN  220101.20  \n",
              "3      Emissão  CH4 (t)                 NaN     NaN  214195.56  \n",
              "4      Emissão  CH4 (t)                 NaN     NaN  186862.84  \n",
              "5      Emissão  CH4 (t)                 NaN     NaN  197538.20  \n",
              "6      Emissão  CH4 (t)                 NaN     NaN  231922.02  \n",
              "7      Emissão  CH4 (t)                 NaN     NaN  209517.92  \n",
              "8      Emissão  CH4 (t)                 NaN     NaN  174633.98  \n",
              "9      Emissão  CH4 (t)                 NaN     NaN  162579.47  "
            ],
            "text/html": [
              "\n",
              "  <div id=\"df-d501f335-8a1b-4654-b73f-ae83ee2bc9f2\">\n",
              "    <div class=\"colab-df-container\">\n",
              "      <div>\n",
              "<style scoped>\n",
              "    .dataframe tbody tr th:only-of-type {\n",
              "        vertical-align: middle;\n",
              "    }\n",
              "\n",
              "    .dataframe tbody tr th {\n",
              "        vertical-align: top;\n",
              "    }\n",
              "\n",
              "    .dataframe thead th {\n",
              "        text-align: right;\n",
              "    }\n",
              "</style>\n",
              "<table border=\"1\" class=\"dataframe\">\n",
              "  <thead>\n",
              "    <tr style=\"text-align: right;\">\n",
              "      <th></th>\n",
              "      <th>ano</th>\n",
              "      <th>nivel_1</th>\n",
              "      <th>nivel_2</th>\n",
              "      <th>nivel_3</th>\n",
              "      <th>nivel_4</th>\n",
              "      <th>nivel_5</th>\n",
              "      <th>nivel_6</th>\n",
              "      <th>tipo_emissao</th>\n",
              "      <th>gas</th>\n",
              "      <th>atividade_economica</th>\n",
              "      <th>produto</th>\n",
              "      <th>emissao</th>\n",
              "    </tr>\n",
              "  </thead>\n",
              "  <tbody>\n",
              "    <tr>\n",
              "      <th>0</th>\n",
              "      <td>1970</td>\n",
              "      <td>Agropecuária</td>\n",
              "      <td>Cultivo do Arroz</td>\n",
              "      <td>Diretas</td>\n",
              "      <td>Outros</td>\n",
              "      <td>Vegetal</td>\n",
              "      <td>Arroz</td>\n",
              "      <td>Emissão</td>\n",
              "      <td>CH4 (t)</td>\n",
              "      <td>NaN</td>\n",
              "      <td>NaN</td>\n",
              "      <td>230462.17</td>\n",
              "    </tr>\n",
              "    <tr>\n",
              "      <th>1</th>\n",
              "      <td>1971</td>\n",
              "      <td>Agropecuária</td>\n",
              "      <td>Cultivo do Arroz</td>\n",
              "      <td>Diretas</td>\n",
              "      <td>Outros</td>\n",
              "      <td>Vegetal</td>\n",
              "      <td>Arroz</td>\n",
              "      <td>Emissão</td>\n",
              "      <td>CH4 (t)</td>\n",
              "      <td>NaN</td>\n",
              "      <td>NaN</td>\n",
              "      <td>226016.30</td>\n",
              "    </tr>\n",
              "    <tr>\n",
              "      <th>2</th>\n",
              "      <td>1972</td>\n",
              "      <td>Agropecuária</td>\n",
              "      <td>Cultivo do Arroz</td>\n",
              "      <td>Diretas</td>\n",
              "      <td>Outros</td>\n",
              "      <td>Vegetal</td>\n",
              "      <td>Arroz</td>\n",
              "      <td>Emissão</td>\n",
              "      <td>CH4 (t)</td>\n",
              "      <td>NaN</td>\n",
              "      <td>NaN</td>\n",
              "      <td>220101.20</td>\n",
              "    </tr>\n",
              "    <tr>\n",
              "      <th>3</th>\n",
              "      <td>1973</td>\n",
              "      <td>Agropecuária</td>\n",
              "      <td>Cultivo do Arroz</td>\n",
              "      <td>Diretas</td>\n",
              "      <td>Outros</td>\n",
              "      <td>Vegetal</td>\n",
              "      <td>Arroz</td>\n",
              "      <td>Emissão</td>\n",
              "      <td>CH4 (t)</td>\n",
              "      <td>NaN</td>\n",
              "      <td>NaN</td>\n",
              "      <td>214195.56</td>\n",
              "    </tr>\n",
              "    <tr>\n",
              "      <th>4</th>\n",
              "      <td>1974</td>\n",
              "      <td>Agropecuária</td>\n",
              "      <td>Cultivo do Arroz</td>\n",
              "      <td>Diretas</td>\n",
              "      <td>Outros</td>\n",
              "      <td>Vegetal</td>\n",
              "      <td>Arroz</td>\n",
              "      <td>Emissão</td>\n",
              "      <td>CH4 (t)</td>\n",
              "      <td>NaN</td>\n",
              "      <td>NaN</td>\n",
              "      <td>186862.84</td>\n",
              "    </tr>\n",
              "    <tr>\n",
              "      <th>5</th>\n",
              "      <td>1975</td>\n",
              "      <td>Agropecuária</td>\n",
              "      <td>Cultivo do Arroz</td>\n",
              "      <td>Diretas</td>\n",
              "      <td>Outros</td>\n",
              "      <td>Vegetal</td>\n",
              "      <td>Arroz</td>\n",
              "      <td>Emissão</td>\n",
              "      <td>CH4 (t)</td>\n",
              "      <td>NaN</td>\n",
              "      <td>NaN</td>\n",
              "      <td>197538.20</td>\n",
              "    </tr>\n",
              "    <tr>\n",
              "      <th>6</th>\n",
              "      <td>1976</td>\n",
              "      <td>Agropecuária</td>\n",
              "      <td>Cultivo do Arroz</td>\n",
              "      <td>Diretas</td>\n",
              "      <td>Outros</td>\n",
              "      <td>Vegetal</td>\n",
              "      <td>Arroz</td>\n",
              "      <td>Emissão</td>\n",
              "      <td>CH4 (t)</td>\n",
              "      <td>NaN</td>\n",
              "      <td>NaN</td>\n",
              "      <td>231922.02</td>\n",
              "    </tr>\n",
              "    <tr>\n",
              "      <th>7</th>\n",
              "      <td>1977</td>\n",
              "      <td>Agropecuária</td>\n",
              "      <td>Cultivo do Arroz</td>\n",
              "      <td>Diretas</td>\n",
              "      <td>Outros</td>\n",
              "      <td>Vegetal</td>\n",
              "      <td>Arroz</td>\n",
              "      <td>Emissão</td>\n",
              "      <td>CH4 (t)</td>\n",
              "      <td>NaN</td>\n",
              "      <td>NaN</td>\n",
              "      <td>209517.92</td>\n",
              "    </tr>\n",
              "    <tr>\n",
              "      <th>8</th>\n",
              "      <td>1978</td>\n",
              "      <td>Agropecuária</td>\n",
              "      <td>Cultivo do Arroz</td>\n",
              "      <td>Diretas</td>\n",
              "      <td>Outros</td>\n",
              "      <td>Vegetal</td>\n",
              "      <td>Arroz</td>\n",
              "      <td>Emissão</td>\n",
              "      <td>CH4 (t)</td>\n",
              "      <td>NaN</td>\n",
              "      <td>NaN</td>\n",
              "      <td>174633.98</td>\n",
              "    </tr>\n",
              "    <tr>\n",
              "      <th>9</th>\n",
              "      <td>1979</td>\n",
              "      <td>Agropecuária</td>\n",
              "      <td>Cultivo do Arroz</td>\n",
              "      <td>Diretas</td>\n",
              "      <td>Outros</td>\n",
              "      <td>Vegetal</td>\n",
              "      <td>Arroz</td>\n",
              "      <td>Emissão</td>\n",
              "      <td>CH4 (t)</td>\n",
              "      <td>NaN</td>\n",
              "      <td>NaN</td>\n",
              "      <td>162579.47</td>\n",
              "    </tr>\n",
              "  </tbody>\n",
              "</table>\n",
              "</div>\n",
              "      <button class=\"colab-df-convert\" onclick=\"convertToInteractive('df-d501f335-8a1b-4654-b73f-ae83ee2bc9f2')\"\n",
              "              title=\"Convert this dataframe to an interactive table.\"\n",
              "              style=\"display:none;\">\n",
              "        \n",
              "  <svg xmlns=\"http://www.w3.org/2000/svg\" height=\"24px\"viewBox=\"0 0 24 24\"\n",
              "       width=\"24px\">\n",
              "    <path d=\"M0 0h24v24H0V0z\" fill=\"none\"/>\n",
              "    <path d=\"M18.56 5.44l.94 2.06.94-2.06 2.06-.94-2.06-.94-.94-2.06-.94 2.06-2.06.94zm-11 1L8.5 8.5l.94-2.06 2.06-.94-2.06-.94L8.5 2.5l-.94 2.06-2.06.94zm10 10l.94 2.06.94-2.06 2.06-.94-2.06-.94-.94-2.06-.94 2.06-2.06.94z\"/><path d=\"M17.41 7.96l-1.37-1.37c-.4-.4-.92-.59-1.43-.59-.52 0-1.04.2-1.43.59L10.3 9.45l-7.72 7.72c-.78.78-.78 2.05 0 2.83L4 21.41c.39.39.9.59 1.41.59.51 0 1.02-.2 1.41-.59l7.78-7.78 2.81-2.81c.8-.78.8-2.07 0-2.86zM5.41 20L4 18.59l7.72-7.72 1.47 1.35L5.41 20z\"/>\n",
              "  </svg>\n",
              "      </button>\n",
              "      \n",
              "  <style>\n",
              "    .colab-df-container {\n",
              "      display:flex;\n",
              "      flex-wrap:wrap;\n",
              "      gap: 12px;\n",
              "    }\n",
              "\n",
              "    .colab-df-convert {\n",
              "      background-color: #E8F0FE;\n",
              "      border: none;\n",
              "      border-radius: 50%;\n",
              "      cursor: pointer;\n",
              "      display: none;\n",
              "      fill: #1967D2;\n",
              "      height: 32px;\n",
              "      padding: 0 0 0 0;\n",
              "      width: 32px;\n",
              "    }\n",
              "\n",
              "    .colab-df-convert:hover {\n",
              "      background-color: #E2EBFA;\n",
              "      box-shadow: 0px 1px 2px rgba(60, 64, 67, 0.3), 0px 1px 3px 1px rgba(60, 64, 67, 0.15);\n",
              "      fill: #174EA6;\n",
              "    }\n",
              "\n",
              "    [theme=dark] .colab-df-convert {\n",
              "      background-color: #3B4455;\n",
              "      fill: #D2E3FC;\n",
              "    }\n",
              "\n",
              "    [theme=dark] .colab-df-convert:hover {\n",
              "      background-color: #434B5C;\n",
              "      box-shadow: 0px 1px 3px 1px rgba(0, 0, 0, 0.15);\n",
              "      filter: drop-shadow(0px 1px 2px rgba(0, 0, 0, 0.3));\n",
              "      fill: #FFFFFF;\n",
              "    }\n",
              "  </style>\n",
              "\n",
              "      <script>\n",
              "        const buttonEl =\n",
              "          document.querySelector('#df-d501f335-8a1b-4654-b73f-ae83ee2bc9f2 button.colab-df-convert');\n",
              "        buttonEl.style.display =\n",
              "          google.colab.kernel.accessAllowed ? 'block' : 'none';\n",
              "\n",
              "        async function convertToInteractive(key) {\n",
              "          const element = document.querySelector('#df-d501f335-8a1b-4654-b73f-ae83ee2bc9f2');\n",
              "          const dataTable =\n",
              "            await google.colab.kernel.invokeFunction('convertToInteractive',\n",
              "                                                     [key], {});\n",
              "          if (!dataTable) return;\n",
              "\n",
              "          const docLinkHtml = 'Like what you see? Visit the ' +\n",
              "            '<a target=\"_blank\" href=https://colab.research.google.com/notebooks/data_table.ipynb>data table notebook</a>'\n",
              "            + ' to learn more about interactive tables.';\n",
              "          element.innerHTML = '';\n",
              "          dataTable['output_type'] = 'display_data';\n",
              "          await google.colab.output.renderOutput(dataTable, element);\n",
              "          const docLink = document.createElement('div');\n",
              "          docLink.innerHTML = docLinkHtml;\n",
              "          element.appendChild(docLink);\n",
              "        }\n",
              "      </script>\n",
              "    </div>\n",
              "  </div>\n",
              "  "
            ]
          },
          "metadata": {},
          "execution_count": 2
        }
      ]
    },
    {
      "cell_type": "markdown",
      "source": [
        "Observando as primeiras entradas e suas colunas, percebemos que do *`nivel_1`* até *`nivel_6`*, a especificidade da entidade que polui é diretamente proporcional ao nível. Deste modo, trabalharemos primeiramente com níveis que englobam dados mais gerais, como o *`nivel_1`* e o *`nivel_2`*. Depois, com colunas mais específicas, como *`nivel_6`*. Como o dataset dá os anos que foram registradas as emissões, analisaremos também por esse. Outra coluna que usaremos será a *`gas`*, que diz respeito a substância química que foi emitida."
      ],
      "metadata": {
        "id": "OjJ2LUEwsnZo"
      }
    },
    {
      "cell_type": "markdown",
      "source": [
        "---"
      ],
      "metadata": {
        "id": "OrWnGMRJwTES"
      }
    },
    {
      "cell_type": "code",
      "source": [
        "print(f'Quantidade de linhas: {dataset.shape[0]}\\nQuantidade de colunas: {dataset.shape[1]}', end='\\n\\n')"
      ],
      "metadata": {
        "colab": {
          "base_uri": "https://localhost:8080/"
        },
        "id": "8zOe8WsvsQ5w",
        "outputId": "a5713944-dbf3-4865-a026-a35a6656b435"
      },
      "execution_count": 3,
      "outputs": [
        {
          "output_type": "stream",
          "name": "stdout",
          "text": [
            "Quantidade de linhas: 454850\n",
            "Quantidade de colunas: 12\n",
            "\n"
          ]
        }
      ]
    },
    {
      "cell_type": "code",
      "source": [
        "print(f'Tipo das variáveis em cada coluna: \\n')\n",
        "dataset.dtypes"
      ],
      "metadata": {
        "colab": {
          "base_uri": "https://localhost:8080/"
        },
        "id": "cegu2hDosU6i",
        "outputId": "d6a09d02-e5a9-4ab4-b489-0ebbde0abaef"
      },
      "execution_count": 4,
      "outputs": [
        {
          "output_type": "stream",
          "name": "stdout",
          "text": [
            "Tipo das variáveis em cada coluna: \n",
            "\n"
          ]
        },
        {
          "output_type": "execute_result",
          "data": {
            "text/plain": [
              "ano                      int64\n",
              "nivel_1                 object\n",
              "nivel_2                 object\n",
              "nivel_3                 object\n",
              "nivel_4                 object\n",
              "nivel_5                 object\n",
              "nivel_6                 object\n",
              "tipo_emissao            object\n",
              "gas                     object\n",
              "atividade_economica     object\n",
              "produto                 object\n",
              "emissao                float64\n",
              "dtype: object"
            ]
          },
          "metadata": {},
          "execution_count": 4
        }
      ]
    },
    {
      "cell_type": "markdown",
      "source": [
        "---"
      ],
      "metadata": {
        "id": "xtuW3H7Lso5e"
      }
    },
    {
      "cell_type": "markdown",
      "source": [
        "Neste dataset, só existem duas colunas com dados numéricos: *`anos`* e *`emissao`*. \n",
        "O objetivo no código abaixo é analisar a média, quantidade, desvio padrão etc. Logo, por enquanto, a coluna *`anos`* não será necessária para essa análise no momento."
      ],
      "metadata": {
        "id": "TX0cEIosw7N_"
      }
    },
    {
      "cell_type": "code",
      "source": [
        "print(f'Descrição dos valores somente da coluna EMISSAO:')\n",
        "dataset.emissao.describe()"
      ],
      "metadata": {
        "colab": {
          "base_uri": "https://localhost:8080/"
        },
        "id": "2fJRznG8wWWE",
        "outputId": "55039dbe-576c-408f-ca20-159df4d91ca6"
      },
      "execution_count": 5,
      "outputs": [
        {
          "output_type": "stream",
          "name": "stdout",
          "text": [
            "Descrição dos valores somente da coluna EMISSAO:\n"
          ]
        },
        {
          "output_type": "execute_result",
          "data": {
            "text/plain": [
              "count    4.063250e+05\n",
              "mean     1.437622e+06\n",
              "std      3.124689e+07\n",
              "min     -3.107000e+08\n",
              "25%      0.000000e+00\n",
              "50%      4.689636e+00\n",
              "75%      4.525840e+04\n",
              "max      2.083000e+09\n",
              "Name: emissao, dtype: float64"
            ]
          },
          "metadata": {},
          "execution_count": 5
        }
      ]
    },
    {
      "cell_type": "markdown",
      "source": [
        "Por enquanto, as duas informações mais importantes retiradas do método *`describe()`* é o valor mínimo (nós começamos a perceber que existem dados de emissões com valores negativos, o qual analisaremos o seu significado durante a análise) e o valor máximo, ambos podendo indicar a presença de outliers, visto que a ordem de grandeza entre ambos é muito distante, relacionando-os com o primeiro e terceiro quartil.\n",
        "\n",
        "---"
      ],
      "metadata": {
        "id": "rYvJucc35egJ"
      }
    },
    {
      "cell_type": "markdown",
      "source": [
        "Agora realizaremos uma análise da coluna *`ano`*, pois há dezenas de milhares de entradas com inúmeros anos diferentes. O objetivo será entender como os mesmos estão distribuido pelo dataset."
      ],
      "metadata": {
        "id": "kJASONJT8g7F"
      }
    },
    {
      "cell_type": "code",
      "source": [
        "print(f'Descrição dos valores somente da coluna ANO:')\n",
        "dataset.ano.describe()"
      ],
      "metadata": {
        "colab": {
          "base_uri": "https://localhost:8080/"
        },
        "id": "gkmVuapU-SEY",
        "outputId": "1ca52b7d-e0c6-4fc8-f4e1-f764a05d883f"
      },
      "execution_count": 6,
      "outputs": [
        {
          "output_type": "stream",
          "name": "stdout",
          "text": [
            "Descrição dos valores somente da coluna ANO:\n"
          ]
        },
        {
          "output_type": "execute_result",
          "data": {
            "text/plain": [
              "count    454850.000000\n",
              "mean       1994.500000\n",
              "std          14.430886\n",
              "min        1970.000000\n",
              "25%        1982.000000\n",
              "50%        1994.500000\n",
              "75%        2007.000000\n",
              "max        2019.000000\n",
              "Name: ano, dtype: float64"
            ]
          },
          "metadata": {},
          "execution_count": 6
        }
      ]
    },
    {
      "cell_type": "markdown",
      "source": [
        "Somente pela função *`describe()`* não é possível ter uma ideia muito clara de como estão distribuidos os dados. Portanto, o próximo passo é visualizar a distribuição das entradas numéricas no dataset. Mas, é possível retirar a informação que as emissões de gases neste conjunto de dados estão sendo auferidos desde 1970 (valor mínimo) até 2019 (valor máximo).\n"
      ],
      "metadata": {
        "id": "4-mFi-1b_6gG"
      }
    },
    {
      "cell_type": "code",
      "source": [
        "dataset.ano.value_counts().sort_index(ascending=True)"
      ],
      "metadata": {
        "colab": {
          "base_uri": "https://localhost:8080/"
        },
        "id": "3io2DpQOTF_8",
        "outputId": "1797249e-9a16-49ed-c9a2-e498a7d0745b"
      },
      "execution_count": 7,
      "outputs": [
        {
          "output_type": "execute_result",
          "data": {
            "text/plain": [
              "1970    9097\n",
              "1971    9097\n",
              "1972    9097\n",
              "1973    9097\n",
              "1974    9097\n",
              "1975    9097\n",
              "1976    9097\n",
              "1977    9097\n",
              "1978    9097\n",
              "1979    9097\n",
              "1980    9097\n",
              "1981    9097\n",
              "1982    9097\n",
              "1983    9097\n",
              "1984    9097\n",
              "1985    9097\n",
              "1986    9097\n",
              "1987    9097\n",
              "1988    9097\n",
              "1989    9097\n",
              "1990    9097\n",
              "1991    9097\n",
              "1992    9097\n",
              "1993    9097\n",
              "1994    9097\n",
              "1995    9097\n",
              "1996    9097\n",
              "1997    9097\n",
              "1998    9097\n",
              "1999    9097\n",
              "2000    9097\n",
              "2001    9097\n",
              "2002    9097\n",
              "2003    9097\n",
              "2004    9097\n",
              "2005    9097\n",
              "2006    9097\n",
              "2007    9097\n",
              "2008    9097\n",
              "2009    9097\n",
              "2010    9097\n",
              "2011    9097\n",
              "2012    9097\n",
              "2013    9097\n",
              "2014    9097\n",
              "2015    9097\n",
              "2016    9097\n",
              "2017    9097\n",
              "2018    9097\n",
              "2019    9097\n",
              "Name: ano, dtype: int64"
            ]
          },
          "metadata": {},
          "execution_count": 7
        }
      ]
    },
    {
      "cell_type": "markdown",
      "source": [
        "Finalmente, verificando a frequência de cada variável da coluna *`ano`*, constatamos que, em cada ano, foram coletados 9097 dados sobre emissões de gases poluentes, ainda não considerando os valores nulos.\n",
        "\n",
        "---"
      ],
      "metadata": {
        "id": "c3Y8xDPvVI1Y"
      }
    },
    {
      "cell_type": "markdown",
      "source": [
        "Nos códigos abaixo, serão realizadas análises das variáveis categórias que serão relevantes para esta análise de dados."
      ],
      "metadata": {
        "id": "109X8nnjvBh8"
      }
    },
    {
      "cell_type": "code",
      "source": [
        "print(f'Valores que aparecem na coluna NIVEL_1: \\n')\n",
        "dataset.nivel_1.unique()"
      ],
      "metadata": {
        "colab": {
          "base_uri": "https://localhost:8080/"
        },
        "id": "iy5rwPeYvtlc",
        "outputId": "4294b89d-f911-4ad4-9d4e-02c949b2659e"
      },
      "execution_count": 8,
      "outputs": [
        {
          "output_type": "stream",
          "name": "stdout",
          "text": [
            "Valores que aparecem na coluna NIVEL_1: \n",
            "\n"
          ]
        },
        {
          "output_type": "execute_result",
          "data": {
            "text/plain": [
              "array(['Agropecuária', 'Energia', 'Mudança de Uso da Terra e Floresta',\n",
              "       'Processos Industriais', 'Resíduos '], dtype=object)"
            ]
          },
          "metadata": {},
          "execution_count": 8
        }
      ]
    },
    {
      "cell_type": "code",
      "source": [
        "print(f'Valores que aparecem na coluna NIVEL_2: \\n')\n",
        "dataset.nivel_2.unique()"
      ],
      "metadata": {
        "colab": {
          "base_uri": "https://localhost:8080/"
        },
        "id": "pUQVBs0Wv4Kh",
        "outputId": "e1e4bf3a-15c4-4a16-c965-3495dc42c1a8"
      },
      "execution_count": 9,
      "outputs": [
        {
          "output_type": "stream",
          "name": "stdout",
          "text": [
            "Valores que aparecem na coluna NIVEL_2: \n",
            "\n"
          ]
        },
        {
          "output_type": "execute_result",
          "data": {
            "text/plain": [
              "array(['Cultivo do Arroz', 'Fermentação Entérica',\n",
              "       'Manejo de Dejetos Animais', 'Queima de Resíduos Agrícolas',\n",
              "       'Solos Manejados', 'Emissões Fugitivas',\n",
              "       'Emissões pela Queima de Combustíveis',\n",
              "       'Alterações de Uso do Solo', 'Remoção em Áreas Protegidas',\n",
              "       'Remoção por Mudança de Uso da Terra',\n",
              "       'Remoção por Vegetação Secundária', 'Resíduos Florestais',\n",
              "       'Emissões de HFCs', 'Indústria Química', 'Produtos Minerais',\n",
              "       'Produção de Metais',\n",
              "       'Uso Não-Energético de Combustíveis e Uso de Solventes',\n",
              "       'Uso de SF6', 'Efluentes Liquidos', 'Resíduos Sólidos'],\n",
              "      dtype=object)"
            ]
          },
          "metadata": {},
          "execution_count": 9
        }
      ]
    },
    {
      "cell_type": "code",
      "source": [
        "print(f'Valores que aparecem na coluna NIVEL_3: \\n')\n",
        "dataset.nivel_3.unique()"
      ],
      "metadata": {
        "colab": {
          "base_uri": "https://localhost:8080/"
        },
        "id": "JmOPjgmvv9T_",
        "outputId": "a11e6dd6-9130-459b-cd31-851f9209009a"
      },
      "execution_count": 10,
      "outputs": [
        {
          "output_type": "stream",
          "name": "stdout",
          "text": [
            "Valores que aparecem na coluna NIVEL_3: \n",
            "\n"
          ]
        },
        {
          "output_type": "execute_result",
          "data": {
            "text/plain": [
              "array(['Diretas', 'Indiretas', 'Produção de Combustíveis', 'Agropecuário',\n",
              "       'Comercial', 'Geração de Eletricidade (Serviço Público)',\n",
              "       'Industrial', 'Não Identificado', 'Público', 'Residencial',\n",
              "       'Transportes', 'Amazônia', 'Caatinga', 'Cerrado', 'Mata Atlântica',\n",
              "       'Pampa', 'Pantanal', 'NÃO SE APLICA', 'Produção de ABS',\n",
              "       'Produção de Acrilonitrila', 'Produção de Amônia',\n",
              "       'Produção de Anidrido Ftálico',\n",
              "       'Produção de Borracha de butadieno estireno (SBR)',\n",
              "       'Produção de Caprolactama', 'Produção de Carbureto de Cálcio',\n",
              "       'Produção de Cloreto de Vinila',\n",
              "       'Produção de Coque de Petróleo Calcinado',\n",
              "       'Produção de Dicloroetano', 'Produção de Estireno',\n",
              "       'Produção de Eteno', 'Produção de Etilbenzeno',\n",
              "       'Produção de Formaldeído', 'Produção de Metanol',\n",
              "       'Produção de Negro-de-fumo', 'Produção de PVC',\n",
              "       'Produção de Poliestireno', 'Produção de Polietileno PEAD',\n",
              "       'Produção de Polietileno PEBD', 'Produção de Polietileno PELBD',\n",
              "       'Produção de Polipropileno', 'Produção de Propeno',\n",
              "       'Produção de Ácido Adípico', 'Produção de Ácido Fosfórico',\n",
              "       'Produção de Ácido Nítrico', 'Produção de Óxido de Eteno',\n",
              "       'Consumo de Barrilha', 'Produção de Cal', 'Produção de Cimento',\n",
              "       'Produção de Vidro', 'Produção de Alumínio',\n",
              "       'Produção de Ferro Gusa e Aço', 'Produção de Ferroligas',\n",
              "       'Produção de Magnésio', 'Produção de Outros Não-Ferrosos',\n",
              "       'Consumo Final Não Energético', 'Equipamentos Elétricos',\n",
              "       'Efluentes Líquidos Domésticos', 'Efluentes Líquidos Industriais ',\n",
              "       'Disposição Final de Resíduos Sólidos',\n",
              "       'Incineração ou queima a céu aberto',\n",
              "       'Tratamento Biológico de Resíduos Sólidos'], dtype=object)"
            ]
          },
          "metadata": {},
          "execution_count": 10
        }
      ]
    },
    {
      "cell_type": "code",
      "source": [
        "print(f'Valores que aparecem na coluna NIVEL_4: \\n')\n",
        "dataset.nivel_4.unique()"
      ],
      "metadata": {
        "colab": {
          "base_uri": "https://localhost:8080/"
        },
        "id": "qXiJdf8kv9Oi",
        "outputId": "d794c25a-eac5-4eba-a8e4-e6a157c89f04"
      },
      "execution_count": 11,
      "outputs": [
        {
          "output_type": "stream",
          "name": "stdout",
          "text": [
            "Valores que aparecem na coluna NIVEL_4: \n",
            "\n"
          ]
        },
        {
          "output_type": "execute_result",
          "data": {
            "text/plain": [
              "array(['Outros', 'Aplicação de resíduos orgânicos',\n",
              "       'Deposição de dejetos em pastagem', 'Fertilizantes Sintéticos',\n",
              "       'Mineralização de N associado a perda de C no solo',\n",
              "       'Resíduos Agrícolas', 'Solos orgânicos',\n",
              "       'Variação dos Estoques de Carbono no Solo',\n",
              "       'Deposição Atmosférica', 'Lixiviação',\n",
              "       'Exploração de petróleo e gás natural',\n",
              "       'Produção de carvão mineral e outros', 'Refino de petróleo',\n",
              "       'Transporte de gás natural', 'NÃO SE APLICA',\n",
              "       'Alimentos e bebidas', 'Cerâmica', 'Cimento', 'Ferro Ligas',\n",
              "       'Ferro gusa e aço', 'Mineração e pelotização',\n",
              "       'Não ferrosos e outros da metalurgia', 'Outras indústrias',\n",
              "       'Papel e celulose', 'Química', 'Têxtil',\n",
              "       'Produção de carvão vegetal', 'Produção de álcool', 'Aéreo',\n",
              "       'Ferroviário', 'Hidroviário', 'Rodoviário', 'em Área Protegida',\n",
              "       'fora de Área Protegida', 'Cal Calcítica', 'Cal Dolomítica',\n",
              "       'Cal Magnesiana', 'Consumo de Calcário', 'Consumo de Dolomita',\n",
              "       'Tecnologia Prebaked Anode', 'Tecnologia Soderberg',\n",
              "       'Consumo de Combustíveis Redutores', 'Uso de SF6',\n",
              "       'Consumo em Outros Setores', 'NÃO SE APLICA ',\n",
              "       'Produção de Carne Avícola', 'Produção de Carne Bovina',\n",
              "       'Produção de Carne Suína', 'Produção de Celulose',\n",
              "       'Produção de Cerveja', 'Produção de Leite Cru ',\n",
              "       'Produção de Leite Pasteurizado ', 'Lodo de ETE',\n",
              "       'Resíduos Sólidos Urbanos', 'Resíduos de Serviços de Saúde ',\n",
              "       'Queima de Resíduos a Céu Aberto',\n",
              "       'Tratamento de Resíduos por Incineração '], dtype=object)"
            ]
          },
          "metadata": {},
          "execution_count": 11
        }
      ]
    },
    {
      "cell_type": "code",
      "source": [
        "print(f'Valores que aparecem na coluna NIVEL_5: \\n')\n",
        "dataset.nivel_5.unique()"
      ],
      "metadata": {
        "colab": {
          "base_uri": "https://localhost:8080/"
        },
        "id": "wtN-GieSwFx3",
        "outputId": "4c51dcdd-39ca-4fa8-e5fd-749f51a89737"
      },
      "execution_count": 12,
      "outputs": [
        {
          "output_type": "stream",
          "name": "stdout",
          "text": [
            "Valores que aparecem na coluna NIVEL_5: \n",
            "\n"
          ]
        },
        {
          "output_type": "execute_result",
          "data": {
            "text/plain": [
              "array(['Vegetal', 'Animal', 'Outros', 'Petróleo e gás natural',\n",
              "       'Carvão mineral', 'Petróleo', 'Gás natural', 'Bagaço de cana',\n",
              "       'Biogás', 'Carvão vegetal', 'Diesel de petróleo', 'GLP',\n",
              "       'Gás de refinaria', 'Gás natural seco', 'Lenha',\n",
              "       'Outras biomassas', 'Querosene iluminante', 'Álcool hidratado',\n",
              "       'Óleo combustível', 'Óleo diesel', 'Coque de petróleo',\n",
              "       'Gás canalizado RJ', 'Gás canalizado SP', 'Alcatrão',\n",
              "       'Carvão vapor 3100', 'Carvão vapor 3300', 'Carvão vapor 4200',\n",
              "       'Carvão vapor 4500', 'Carvão vapor 4700', 'Carvão vapor 5200',\n",
              "       'Carvão vapor 6000', 'Gás natural úmido',\n",
              "       'Outros energéticos de petróleo', 'Carvão vapor 3700',\n",
              "       'Carvão vapor 5900', 'Carvão vapor sem especificação',\n",
              "       'Outras não renováveis', 'Coque de carvão mineral',\n",
              "       'Gás de coqueria', 'Nafta', 'Lixívia', 'Lenha carvoejamento',\n",
              "       'Gasolina de aviação', 'Querosene de aviação', 'Gasolina C',\n",
              "       'Gasolina automotiva', 'Desmatamento',\n",
              "       'Outras Mudanças de uso da terra', 'Regeneração', 'NÃO SE APLICA',\n",
              "       'Vegetação nativa estável', 'Consumo de Combustíveis Fósseis',\n",
              "       'Consumo de Combustíveis Renováveis', 'Lubrificantes',\n",
              "       'Outros não energéticos de petróleo', 'Solventes', 'Álcool anidro',\n",
              "       'NÃO SE APLICA ', 'Disposição em Aterro Controlado ou Lixão',\n",
              "       'Disposição em Aterro Sanitário', 'Resíduos Sólidos Urbanos',\n",
              "       'Resíduos de Serviços de Saúde ', 'Compostagem'], dtype=object)"
            ]
          },
          "metadata": {},
          "execution_count": 12
        }
      ]
    },
    {
      "cell_type": "code",
      "source": [
        "print(f'Valores que aparecem na coluna NIVEL_6: \\n')\n",
        "dataset.nivel_6.unique()"
      ],
      "metadata": {
        "colab": {
          "base_uri": "https://localhost:8080/"
        },
        "id": "-3k0-GWRwHTI",
        "outputId": "2ca8d455-17c4-495d-e43c-c8cca7d2b346"
      },
      "execution_count": 13,
      "outputs": [
        {
          "output_type": "stream",
          "name": "stdout",
          "text": [
            "Valores que aparecem na coluna NIVEL_6: \n",
            "\n"
          ]
        },
        {
          "output_type": "execute_result",
          "data": {
            "text/plain": [
              "array(['Arroz', 'Asinino', 'Bubalino', 'Caprino', 'Equino',\n",
              "       'Gado de Corte', 'Gado de Leite', 'Muar', 'Ovino', 'Suínos',\n",
              "       'Aves', 'Algodão', 'Cana de Açucar', 'Torta de Filtro', 'Vinhaça',\n",
              "       'Fertilizantes Sintéticos', 'Outros', 'Aplicação de Ureia',\n",
              "       'Uso de Calcário', 'Feijão', 'Mandioca', 'Milho',\n",
              "       'Outras Culturas', 'Pastagem', 'Soja', 'Trigo', 'Solos orgânicos',\n",
              "       'Florestas Plantadas',\n",
              "       'Lavouras Cultivadas sob Sistema Convencional',\n",
              "       'Lavouras Cultivadas sob Sistema Plantio Direto',\n",
              "       'Pastagem Bem Manejada', 'Pastagem Degradada',\n",
              "       'Sistemas Integrados Lavoura-Pecuária-Floresta', 'NÃO SE APLICA',\n",
              "       'Centrais Elétricas Autoprodutoras', 'Consumo Final Energético',\n",
              "       'Centrais Elétricas de Serviço Público', 'Carvoarias', 'Aeronaves',\n",
              "       'Locomotivas', 'Embarcações', 'Automóveis', 'Caminhões',\n",
              "       'Comerciais Leves', 'Ônibus', 'Motocicletas',\n",
              "       'Floresta primária -- Silvicultura',\n",
              "       'Floresta primária -- Uso agropecuário',\n",
              "       'Floresta primária -- Área sem vegetação',\n",
              "       'Floresta secundária -- Silvicultura',\n",
              "       'Floresta secundária -- Uso agropecuário',\n",
              "       'Floresta secundária -- Área sem vegetação',\n",
              "       'Vegetação não florestal primária -- Silvicultura',\n",
              "       'Vegetação não florestal primária -- Uso agropecuário',\n",
              "       'Vegetação não florestal primária -- Área sem vegetação',\n",
              "       'Vegetação não florestal secundária -- Uso agropecuário',\n",
              "       'Vegetação não florestal secundária -- Área sem vegetação',\n",
              "       'Silvicultura -- Uso agropecuário',\n",
              "       'Uso agropecuário -- Uso agropecuário',\n",
              "       'Uso agropecuário -- Área sem vegetação',\n",
              "       'Silvicultura -- Floresta secundária',\n",
              "       'Silvicultura -- Vegetação não florestal secundária',\n",
              "       'Uso agropecuário -- Floresta secundária',\n",
              "       'Uso agropecuário -- Vegetação não florestal secundária',\n",
              "       'Silvicultura -- Área sem vegetação',\n",
              "       'Uso agropecuário -- Silvicultura',\n",
              "       'Floresta primária -- Floresta primária',\n",
              "       'Vegetação não florestal primária -- Vegetação não florestal primária',\n",
              "       'Vegetação não florestal secundária -- Silvicultura',\n",
              "       'Área sem vegetação -- Uso agropecuário',\n",
              "       'Área sem vegetação -- Silvicultura',\n",
              "       'Área sem vegetação -- Floresta secundária',\n",
              "       'Área sem vegetação -- Vegetação não florestal secundária',\n",
              "       'Floresta secundária -- Floresta secundária',\n",
              "       'Vegetação não florestal secundária -- Vegetação não florestal secundária',\n",
              "       'NÃO SE APLICA '], dtype=object)"
            ]
          },
          "metadata": {},
          "execution_count": 13
        }
      ]
    },
    {
      "cell_type": "code",
      "source": [
        "print(f'Valores que aparecem na coluna TIPO_EMISSAO: \\n')\n",
        "dataset.tipo_emissao.unique()"
      ],
      "metadata": {
        "colab": {
          "base_uri": "https://localhost:8080/"
        },
        "id": "JPR3q4lFwO5M",
        "outputId": "328cfb1f-2717-4d6d-8994-ee38b011c10b"
      },
      "execution_count": 14,
      "outputs": [
        {
          "output_type": "stream",
          "name": "stdout",
          "text": [
            "Valores que aparecem na coluna TIPO_EMISSAO: \n",
            "\n"
          ]
        },
        {
          "output_type": "execute_result",
          "data": {
            "text/plain": [
              "array(['Emissão', 'Remoção NCI', 'Emissão NCI', 'Bunker', 'Emissão proxy',\n",
              "       'Remoção proxy', 'Remoção'], dtype=object)"
            ]
          },
          "metadata": {},
          "execution_count": 14
        }
      ]
    },
    {
      "cell_type": "code",
      "source": [
        "print(f'Valores que aparecem na coluna GAS: \\n')\n",
        "dataset.gas.unique()"
      ],
      "metadata": {
        "colab": {
          "base_uri": "https://localhost:8080/"
        },
        "id": "UksS3br9wdQD",
        "outputId": "431f7820-cb4d-44c9-d6fd-76cbf9b73114"
      },
      "execution_count": 15,
      "outputs": [
        {
          "output_type": "stream",
          "name": "stdout",
          "text": [
            "Valores que aparecem na coluna GAS: \n",
            "\n"
          ]
        },
        {
          "output_type": "execute_result",
          "data": {
            "text/plain": [
              "array(['CH4 (t)', 'CO2e (t) GTP-AR2', 'CO2e (t) GTP-AR4',\n",
              "       'CO2e (t) GTP-AR5', 'CO2e (t) GWP-AR2', 'CO2e (t) GWP-AR4',\n",
              "       'CO2e (t) GWP-AR5', 'N2O (t)', 'CO (t)', 'NOX (t)', 'CO2 (t)',\n",
              "       'COVNM (t)', 'NOx (t)', 'HFC-125 (t)', 'HFC-134a (t)',\n",
              "       'HFC-143a (t)', 'HFC-152a (t)', 'HFC-23 (t)', 'HFC-32 (t)',\n",
              "       'C2F6 (t)', 'CF4 (t)', 'SF6 (t)'], dtype=object)"
            ]
          },
          "metadata": {},
          "execution_count": 15
        }
      ]
    },
    {
      "cell_type": "code",
      "source": [
        "print(f'Valores que aparecem na coluna ATIVIDADE_ECONOMICA: \\n')\n",
        "dataset.atividade_economica.unique()"
      ],
      "metadata": {
        "colab": {
          "base_uri": "https://localhost:8080/"
        },
        "id": "f9WDVwsKwiju",
        "outputId": "d9dd9091-41b2-4fec-817e-ff9c2af62a99"
      },
      "execution_count": 16,
      "outputs": [
        {
          "output_type": "stream",
          "name": "stdout",
          "text": [
            "Valores que aparecem na coluna ATIVIDADE_ECONOMICA: \n",
            "\n"
          ]
        },
        {
          "output_type": "execute_result",
          "data": {
            "text/plain": [
              "array([nan, 'PEC', 'AGR', 'PROD_COMB', 'ENE_ELET', 'AGROPEC', 'COM',\n",
              "       'Outra_IND', 'CIM', 'MET', 'OUTra_IND', 'PUB', 'RES', 'TRAN_PASS',\n",
              "       'TRAN_CARGA', 'Conservação', 'HFC', 'SANEAMENTO'], dtype=object)"
            ]
          },
          "metadata": {},
          "execution_count": 16
        }
      ]
    },
    {
      "cell_type": "code",
      "source": [
        "print(f'Valores que aparecem na coluna PRODUTO: \\n')\n",
        "dataset.produto.unique()"
      ],
      "metadata": {
        "colab": {
          "base_uri": "https://localhost:8080/"
        },
        "id": "loJCOTZqwkU_",
        "outputId": "17c6c5c8-84d9-4184-b7c8-d3df01b01333"
      },
      "execution_count": 17,
      "outputs": [
        {
          "output_type": "stream",
          "name": "stdout",
          "text": [
            "Valores que aparecem na coluna PRODUTO: \n",
            "\n"
          ]
        },
        {
          "output_type": "execute_result",
          "data": {
            "text/plain": [
              "array([nan, 'CAR', 'LEI', 'ALIM_BEBIDAS', 'CAR/LEI/ALIM_BEBIDAS',\n",
              "       'ENE_ELET', 'ACO', 'ALU', 'NÃO SE APLICA'], dtype=object)"
            ]
          },
          "metadata": {},
          "execution_count": 17
        }
      ]
    },
    {
      "cell_type": "markdown",
      "source": [
        "Nesta análise exploratória, usaremos somente as colunas categóricas  *`nivel_1`*, *`nivel_2`*, *`nivel_6`* e *`gas`*. Todas elas consideradas nominais por não apresentarem uma ordem dentre as categorias.\n",
        "\n",
        "Já com as colunas escolhidas, é fundamental saber a frequência das entradas relacionadas as essas colunas."
      ],
      "metadata": {
        "id": "6ySPkypmzMFw"
      }
    },
    {
      "cell_type": "code",
      "source": [
        "dataset.nivel_1.value_counts() / dataset.shape[0] * 100"
      ],
      "metadata": {
        "colab": {
          "base_uri": "https://localhost:8080/"
        },
        "id": "CYTQ7epY4lV6",
        "outputId": "fdcd8da0-cae7-4d8b-ff8f-3b5238e967ee"
      },
      "execution_count": 18,
      "outputs": [
        {
          "output_type": "execute_result",
          "data": {
            "text/plain": [
              "Energia                               59.030450\n",
              "Mudança de Uso da Terra e Floresta    28.371991\n",
              "Agropecuária                           7.189183\n",
              "Processos Industriais                  4.122238\n",
              "Resíduos                               1.286138\n",
              "Name: nivel_1, dtype: float64"
            ]
          },
          "metadata": {},
          "execution_count": 18
        }
      ]
    },
    {
      "cell_type": "code",
      "source": [
        "dataset.nivel_2.value_counts() / dataset.shape[0] * 100"
      ],
      "metadata": {
        "id": "YK0G8-Rk4w9Z",
        "colab": {
          "base_uri": "https://localhost:8080/"
        },
        "outputId": "01b4c2a8-f01d-42b2-8b1a-de85cfafbfd5"
      },
      "execution_count": 19,
      "outputs": [
        {
          "output_type": "execute_result",
          "data": {
            "text/plain": [
              "Emissões pela Queima de Combustíveis                     58.645707\n",
              "Alterações de Uso do Solo                                16.543916\n",
              "Solos Manejados                                           5.386391\n",
              "Remoção por Mudança de Uso da Terra                       5.386391\n",
              "Remoção por Vegetação Secundária                          4.001319\n",
              "Produção de Metais                                        1.956689\n",
              "Remoção em Áreas Protegidas                               1.385072\n",
              "Indústria Química                                         1.297131\n",
              "Resíduos Florestais                                       1.055293\n",
              "Manejo de Dejetos Animais                                 0.813455\n",
              "Fermentação Entérica                                      0.692536\n",
              "Resíduos Sólidos                                          0.659558\n",
              "Efluentes Liquidos                                        0.626580\n",
              "Produtos Minerais                                         0.538639\n",
              "Emissões Fugitivas                                        0.384742\n",
              "Queima de Resíduos Agrícolas                              0.219853\n",
              "Emissões de HFCs                                          0.131912\n",
              "Uso Não-Energético de Combustíveis e Uso de Solventes     0.120919\n",
              "Uso de SF6                                                0.076948\n",
              "Cultivo do Arroz                                          0.076948\n",
              "Name: nivel_2, dtype: float64"
            ]
          },
          "metadata": {},
          "execution_count": 19
        }
      ]
    },
    {
      "cell_type": "code",
      "source": [
        "dataset.nivel_6.value_counts() / dataset.shape[0] * 100"
      ],
      "metadata": {
        "colab": {
          "base_uri": "https://localhost:8080/"
        },
        "id": "8pvdbt9Q48iX",
        "outputId": "2183b475-44bc-4e06-c0bf-c43006b35de1"
      },
      "execution_count": 20,
      "outputs": [
        {
          "output_type": "execute_result",
          "data": {
            "text/plain": [
              "Consumo Final Energético                         37.550841\n",
              "Centrais Elétricas Autoprodutoras                15.015939\n",
              "NÃO SE APLICA                                     7.409036\n",
              "Centrais Elétricas de Serviço Público             2.264483\n",
              "Uso agropecuário -- Uso agropecuário              1.846763\n",
              "                                                   ...    \n",
              "Pastagem Degradada                                0.076948\n",
              "Florestas Plantadas                               0.076948\n",
              "Sistemas Integrados Lavoura-Pecuária-Floresta     0.076948\n",
              "Lavouras Cultivadas sob Sistema Convencional      0.076948\n",
              "Pastagem Bem Manejada                             0.076948\n",
              "Name: nivel_6, Length: 76, dtype: float64"
            ]
          },
          "metadata": {},
          "execution_count": 20
        }
      ]
    },
    {
      "cell_type": "code",
      "source": [
        "dataset.gas.value_counts() / dataset.shape[0] * 100"
      ],
      "metadata": {
        "colab": {
          "base_uri": "https://localhost:8080/"
        },
        "id": "K9x9ChTo5JR2",
        "outputId": "16ac813c-1a08-4cc9-bfae-23283c75f9dd"
      },
      "execution_count": 21,
      "outputs": [
        {
          "output_type": "execute_result",
          "data": {
            "text/plain": [
              "CO2e (t) GTP-AR4    10.937672\n",
              "CO2e (t) GTP-AR5    10.937672\n",
              "CO2e (t) GWP-AR2    10.937672\n",
              "CO2e (t) GWP-AR4    10.937672\n",
              "CO2e (t) GWP-AR5    10.937672\n",
              "CO2e (t) GTP-AR2    10.937672\n",
              "CO2 (t)              8.255469\n",
              "N2O (t)              5.804111\n",
              "CH4 (t)              5.485325\n",
              "COVNM (t)            5.045619\n",
              "NOx (t)              4.858745\n",
              "CO (t)               4.770804\n",
              "NOX (t)              0.021985\n",
              "C2F6 (t)             0.021985\n",
              "CF4 (t)              0.021985\n",
              "SF6 (t)              0.021985\n",
              "HFC-125 (t)          0.010993\n",
              "HFC-134a (t)         0.010993\n",
              "HFC-143a (t)         0.010993\n",
              "HFC-152a (t)         0.010993\n",
              "HFC-23 (t)           0.010993\n",
              "HFC-32 (t)           0.010993\n",
              "Name: gas, dtype: float64"
            ]
          },
          "metadata": {},
          "execution_count": 21
        }
      ]
    },
    {
      "cell_type": "markdown",
      "source": [
        "Todos os valores acima encontram-se em percentual. Portanto, como um exemplo, na coluna *`nivel_1`*, as entradas *Energia* ocupam aproximadamente 59%."
      ],
      "metadata": {
        "id": "rIm3iNA75euR"
      }
    },
    {
      "cell_type": "markdown",
      "source": [
        "### **Limpeza de dados**\n",
        "---"
      ],
      "metadata": {
        "id": "3HWEYNWY62-V"
      }
    },
    {
      "cell_type": "markdown",
      "source": [
        "Como, nessa análise exploratória, somente iremos usar as variáveis *`ano`*, *`nivel_1`*, *`nivel_2`*, *`nivel_6`*, *`gas`* e *`emissao`*, excluiremos as outras colunas que não serão usadas."
      ],
      "metadata": {
        "id": "LHnNxrKLVy-2"
      }
    },
    {
      "cell_type": "code",
      "source": [
        "dataset_clean = dataset[['ano','nivel_1', 'nivel_2', 'nivel_6', 'gas', 'emissao']].copy()"
      ],
      "metadata": {
        "id": "R3sB9eWnWXtJ"
      },
      "execution_count": 22,
      "outputs": []
    },
    {
      "cell_type": "code",
      "source": [
        "dataset_clean.head()"
      ],
      "metadata": {
        "colab": {
          "base_uri": "https://localhost:8080/",
          "height": 206
        },
        "id": "ZijK-SyNcssD",
        "outputId": "b9790bad-ec8a-4f0d-8561-74941769c9e5"
      },
      "execution_count": 23,
      "outputs": [
        {
          "output_type": "execute_result",
          "data": {
            "text/plain": [
              "    ano       nivel_1           nivel_2 nivel_6      gas    emissao\n",
              "0  1970  Agropecuária  Cultivo do Arroz   Arroz  CH4 (t)  230462.17\n",
              "1  1971  Agropecuária  Cultivo do Arroz   Arroz  CH4 (t)  226016.30\n",
              "2  1972  Agropecuária  Cultivo do Arroz   Arroz  CH4 (t)  220101.20\n",
              "3  1973  Agropecuária  Cultivo do Arroz   Arroz  CH4 (t)  214195.56\n",
              "4  1974  Agropecuária  Cultivo do Arroz   Arroz  CH4 (t)  186862.84"
            ],
            "text/html": [
              "\n",
              "  <div id=\"df-4f8c2b05-c782-4bec-ad24-70105ffe8878\">\n",
              "    <div class=\"colab-df-container\">\n",
              "      <div>\n",
              "<style scoped>\n",
              "    .dataframe tbody tr th:only-of-type {\n",
              "        vertical-align: middle;\n",
              "    }\n",
              "\n",
              "    .dataframe tbody tr th {\n",
              "        vertical-align: top;\n",
              "    }\n",
              "\n",
              "    .dataframe thead th {\n",
              "        text-align: right;\n",
              "    }\n",
              "</style>\n",
              "<table border=\"1\" class=\"dataframe\">\n",
              "  <thead>\n",
              "    <tr style=\"text-align: right;\">\n",
              "      <th></th>\n",
              "      <th>ano</th>\n",
              "      <th>nivel_1</th>\n",
              "      <th>nivel_2</th>\n",
              "      <th>nivel_6</th>\n",
              "      <th>gas</th>\n",
              "      <th>emissao</th>\n",
              "    </tr>\n",
              "  </thead>\n",
              "  <tbody>\n",
              "    <tr>\n",
              "      <th>0</th>\n",
              "      <td>1970</td>\n",
              "      <td>Agropecuária</td>\n",
              "      <td>Cultivo do Arroz</td>\n",
              "      <td>Arroz</td>\n",
              "      <td>CH4 (t)</td>\n",
              "      <td>230462.17</td>\n",
              "    </tr>\n",
              "    <tr>\n",
              "      <th>1</th>\n",
              "      <td>1971</td>\n",
              "      <td>Agropecuária</td>\n",
              "      <td>Cultivo do Arroz</td>\n",
              "      <td>Arroz</td>\n",
              "      <td>CH4 (t)</td>\n",
              "      <td>226016.30</td>\n",
              "    </tr>\n",
              "    <tr>\n",
              "      <th>2</th>\n",
              "      <td>1972</td>\n",
              "      <td>Agropecuária</td>\n",
              "      <td>Cultivo do Arroz</td>\n",
              "      <td>Arroz</td>\n",
              "      <td>CH4 (t)</td>\n",
              "      <td>220101.20</td>\n",
              "    </tr>\n",
              "    <tr>\n",
              "      <th>3</th>\n",
              "      <td>1973</td>\n",
              "      <td>Agropecuária</td>\n",
              "      <td>Cultivo do Arroz</td>\n",
              "      <td>Arroz</td>\n",
              "      <td>CH4 (t)</td>\n",
              "      <td>214195.56</td>\n",
              "    </tr>\n",
              "    <tr>\n",
              "      <th>4</th>\n",
              "      <td>1974</td>\n",
              "      <td>Agropecuária</td>\n",
              "      <td>Cultivo do Arroz</td>\n",
              "      <td>Arroz</td>\n",
              "      <td>CH4 (t)</td>\n",
              "      <td>186862.84</td>\n",
              "    </tr>\n",
              "  </tbody>\n",
              "</table>\n",
              "</div>\n",
              "      <button class=\"colab-df-convert\" onclick=\"convertToInteractive('df-4f8c2b05-c782-4bec-ad24-70105ffe8878')\"\n",
              "              title=\"Convert this dataframe to an interactive table.\"\n",
              "              style=\"display:none;\">\n",
              "        \n",
              "  <svg xmlns=\"http://www.w3.org/2000/svg\" height=\"24px\"viewBox=\"0 0 24 24\"\n",
              "       width=\"24px\">\n",
              "    <path d=\"M0 0h24v24H0V0z\" fill=\"none\"/>\n",
              "    <path d=\"M18.56 5.44l.94 2.06.94-2.06 2.06-.94-2.06-.94-.94-2.06-.94 2.06-2.06.94zm-11 1L8.5 8.5l.94-2.06 2.06-.94-2.06-.94L8.5 2.5l-.94 2.06-2.06.94zm10 10l.94 2.06.94-2.06 2.06-.94-2.06-.94-.94-2.06-.94 2.06-2.06.94z\"/><path d=\"M17.41 7.96l-1.37-1.37c-.4-.4-.92-.59-1.43-.59-.52 0-1.04.2-1.43.59L10.3 9.45l-7.72 7.72c-.78.78-.78 2.05 0 2.83L4 21.41c.39.39.9.59 1.41.59.51 0 1.02-.2 1.41-.59l7.78-7.78 2.81-2.81c.8-.78.8-2.07 0-2.86zM5.41 20L4 18.59l7.72-7.72 1.47 1.35L5.41 20z\"/>\n",
              "  </svg>\n",
              "      </button>\n",
              "      \n",
              "  <style>\n",
              "    .colab-df-container {\n",
              "      display:flex;\n",
              "      flex-wrap:wrap;\n",
              "      gap: 12px;\n",
              "    }\n",
              "\n",
              "    .colab-df-convert {\n",
              "      background-color: #E8F0FE;\n",
              "      border: none;\n",
              "      border-radius: 50%;\n",
              "      cursor: pointer;\n",
              "      display: none;\n",
              "      fill: #1967D2;\n",
              "      height: 32px;\n",
              "      padding: 0 0 0 0;\n",
              "      width: 32px;\n",
              "    }\n",
              "\n",
              "    .colab-df-convert:hover {\n",
              "      background-color: #E2EBFA;\n",
              "      box-shadow: 0px 1px 2px rgba(60, 64, 67, 0.3), 0px 1px 3px 1px rgba(60, 64, 67, 0.15);\n",
              "      fill: #174EA6;\n",
              "    }\n",
              "\n",
              "    [theme=dark] .colab-df-convert {\n",
              "      background-color: #3B4455;\n",
              "      fill: #D2E3FC;\n",
              "    }\n",
              "\n",
              "    [theme=dark] .colab-df-convert:hover {\n",
              "      background-color: #434B5C;\n",
              "      box-shadow: 0px 1px 3px 1px rgba(0, 0, 0, 0.15);\n",
              "      filter: drop-shadow(0px 1px 2px rgba(0, 0, 0, 0.3));\n",
              "      fill: #FFFFFF;\n",
              "    }\n",
              "  </style>\n",
              "\n",
              "      <script>\n",
              "        const buttonEl =\n",
              "          document.querySelector('#df-4f8c2b05-c782-4bec-ad24-70105ffe8878 button.colab-df-convert');\n",
              "        buttonEl.style.display =\n",
              "          google.colab.kernel.accessAllowed ? 'block' : 'none';\n",
              "\n",
              "        async function convertToInteractive(key) {\n",
              "          const element = document.querySelector('#df-4f8c2b05-c782-4bec-ad24-70105ffe8878');\n",
              "          const dataTable =\n",
              "            await google.colab.kernel.invokeFunction('convertToInteractive',\n",
              "                                                     [key], {});\n",
              "          if (!dataTable) return;\n",
              "\n",
              "          const docLinkHtml = 'Like what you see? Visit the ' +\n",
              "            '<a target=\"_blank\" href=https://colab.research.google.com/notebooks/data_table.ipynb>data table notebook</a>'\n",
              "            + ' to learn more about interactive tables.';\n",
              "          element.innerHTML = '';\n",
              "          dataTable['output_type'] = 'display_data';\n",
              "          await google.colab.output.renderOutput(dataTable, element);\n",
              "          const docLink = document.createElement('div');\n",
              "          docLink.innerHTML = docLinkHtml;\n",
              "          element.appendChild(docLink);\n",
              "        }\n",
              "      </script>\n",
              "    </div>\n",
              "  </div>\n",
              "  "
            ]
          },
          "metadata": {},
          "execution_count": 23
        }
      ]
    },
    {
      "cell_type": "markdown",
      "source": [
        "Próximo passo será verificar a quantidade de entradas que são nulas."
      ],
      "metadata": {
        "id": "br9vnjd2dR-H"
      }
    },
    {
      "cell_type": "code",
      "source": [
        "(dataset_clean.isnull().sum() / dataset_clean.shape[0] * 100).sort_values(ascending = False)"
      ],
      "metadata": {
        "colab": {
          "base_uri": "https://localhost:8080/"
        },
        "id": "_WkhP3j-dYMq",
        "outputId": "fd14afaa-e90d-4ce3-ae25-78bdc0b44c9f"
      },
      "execution_count": 24,
      "outputs": [
        {
          "output_type": "execute_result",
          "data": {
            "text/plain": [
              "emissao    10.668352\n",
              "ano         0.000000\n",
              "nivel_1     0.000000\n",
              "nivel_2     0.000000\n",
              "nivel_6     0.000000\n",
              "gas         0.000000\n",
              "dtype: float64"
            ]
          },
          "metadata": {},
          "execution_count": 24
        }
      ]
    },
    {
      "cell_type": "markdown",
      "source": [
        "Assim, aproximadamente **10,67%** dos dados relacionados a coluna *`emissao`* estão com entradas **nulas**. O ideal agora é analisar especificamente esses valores. Para isso, será necessário observar como essa porcentagem está distribuída em cada uma das entradas que recebem valores nulos."
      ],
      "metadata": {
        "id": "G8yJZpUfe2GT"
      }
    },
    {
      "cell_type": "code",
      "source": [
        "a = dataset_clean.groupby(['nivel_6']).emissao.count().sort_values(ascending = False)\n",
        "b = dataset_clean[dataset_clean.emissao.isnull() == True].nivel_6.value_counts().sort_values(ascending = False)\n",
        "((b)/(a + b)).sort_values(ascending = False)"
      ],
      "metadata": {
        "id": "IRGWObdHgKOu",
        "colab": {
          "base_uri": "https://localhost:8080/"
        },
        "outputId": "e9b06cef-fabc-40e7-dd6c-566c4b8b7419"
      },
      "execution_count": 25,
      "outputs": [
        {
          "output_type": "execute_result",
          "data": {
            "text/plain": [
              "Sistemas Integrados Lavoura-Pecuária-Floresta             0.7\n",
              "Floresta primária -- Floresta primária                    0.4\n",
              "Uso agropecuário -- Silvicultura                          0.4\n",
              "Uso agropecuário -- Uso agropecuário                      0.4\n",
              "Uso agropecuário -- Vegetação não florestal secundária    0.4\n",
              "                                                         ... \n",
              "Torta de Filtro                                           NaN\n",
              "Trigo                                                     NaN\n",
              "Uso de Calcário                                           NaN\n",
              "Vinhaça                                                   NaN\n",
              "Ônibus                                                    NaN\n",
              "Length: 76, dtype: float64"
            ]
          },
          "metadata": {},
          "execution_count": 25
        }
      ]
    },
    {
      "cell_type": "markdown",
      "source": [
        "Analisando-as, percebemos que são índices consideralmente altos de valores faltantes. Como um exemplo da informação acima, 70% dos dados sobre a *`emissao`* das entradas que contém *`Sistemas Integrados Lavoura-Pecuária-Floresta`* são valores nulos. \n",
        "\n",
        "Logo, será necessário substituí-los por cada média da *`emissao`* respectiva a cada entrada do *`nível_6`*. Por exemplo, a média das emissões de *`Sistemas Integrados Lavoura-Pecuária-Floresta`* substituirá os valores nulos somente das entradas que corresponderem a *`Sistemas Integrados Lavoura-Pecuária-Floresta`*. Foi necessário usar o *`for`* para fazer isso para cada uma das categorias/emissores."
      ],
      "metadata": {
        "id": "3GF1cNPeI2On"
      }
    },
    {
      "cell_type": "code",
      "source": [
        "var = dataset_clean.nivel_6.unique()\n",
        "for i in var:\n",
        "  dataset_clean[dataset_clean.nivel_6 == i] = dataset_clean[dataset_clean.nivel_6 == i].replace(np.nan, dataset_clean[dataset_clean.nivel_6 == i].emissao.mean())"
      ],
      "metadata": {
        "id": "SjMm2bDu2cW8"
      },
      "execution_count": 26,
      "outputs": []
    },
    {
      "cell_type": "markdown",
      "source": [
        "Verificando se existem ainda valores nulos:"
      ],
      "metadata": {
        "id": "7-ORimtyPvsR"
      }
    },
    {
      "cell_type": "code",
      "source": [
        "print(f'Quantidade de valores nulos: \\n{dataset_clean.isnull().sum()}.')"
      ],
      "metadata": {
        "id": "-becRWGGPyXw",
        "colab": {
          "base_uri": "https://localhost:8080/"
        },
        "outputId": "afc65e14-e48c-4115-a106-d09e3935a432"
      },
      "execution_count": 27,
      "outputs": [
        {
          "output_type": "stream",
          "name": "stdout",
          "text": [
            "Quantidade de valores nulos: \n",
            "ano        0\n",
            "nivel_1    0\n",
            "nivel_2    0\n",
            "nivel_6    0\n",
            "gas        0\n",
            "emissao    0\n",
            "dtype: int64.\n"
          ]
        }
      ]
    },
    {
      "cell_type": "markdown",
      "source": [
        "---"
      ],
      "metadata": {
        "id": "vBa-Qoc6QCPY"
      }
    },
    {
      "cell_type": "markdown",
      "source": [
        "#### **Analisando entradas que contém *`emissão`* iguais a zero**"
      ],
      "metadata": {
        "id": "Ap31Pk-zQMTA"
      }
    },
    {
      "cell_type": "code",
      "source": [
        "dataset_clean[dataset_clean.emissao == 0].nivel_6.unique()"
      ],
      "metadata": {
        "colab": {
          "base_uri": "https://localhost:8080/"
        },
        "id": "8rX2kSdLX-GO",
        "outputId": "9fddb379-fa4f-4bec-d6e5-1f4c9996b58b"
      },
      "execution_count": 28,
      "outputs": [
        {
          "output_type": "execute_result",
          "data": {
            "text/plain": [
              "array(['Algodão', 'Outros', 'NÃO SE APLICA',\n",
              "       'Centrais Elétricas Autoprodutoras', 'Consumo Final Energético',\n",
              "       'Centrais Elétricas de Serviço Público', 'Aeronaves',\n",
              "       'Locomotivas', 'Embarcações', 'Motocicletas', 'Automóveis',\n",
              "       'Comerciais Leves', 'Floresta primária -- Silvicultura',\n",
              "       'Floresta secundária -- Silvicultura',\n",
              "       'Floresta secundária -- Uso agropecuário',\n",
              "       'Floresta secundária -- Área sem vegetação',\n",
              "       'Vegetação não florestal primária -- Silvicultura',\n",
              "       'Vegetação não florestal secundária -- Uso agropecuário',\n",
              "       'Vegetação não florestal secundária -- Área sem vegetação',\n",
              "       'Silvicultura -- Uso agropecuário',\n",
              "       'Silvicultura -- Floresta secundária',\n",
              "       'Silvicultura -- Vegetação não florestal secundária',\n",
              "       'Uso agropecuário -- Floresta secundária',\n",
              "       'Uso agropecuário -- Vegetação não florestal secundária',\n",
              "       'Silvicultura -- Área sem vegetação',\n",
              "       'Uso agropecuário -- Silvicultura',\n",
              "       'Vegetação não florestal primária -- Área sem vegetação',\n",
              "       'Uso agropecuário -- Uso agropecuário',\n",
              "       'Vegetação não florestal secundária -- Silvicultura',\n",
              "       'Área sem vegetação -- Silvicultura',\n",
              "       'Área sem vegetação -- Floresta secundária',\n",
              "       'Área sem vegetação -- Vegetação não florestal secundária',\n",
              "       'Floresta secundária -- Floresta secundária',\n",
              "       'Vegetação não florestal secundária -- Vegetação não florestal secundária',\n",
              "       'NÃO SE APLICA '], dtype=object)"
            ]
          },
          "metadata": {},
          "execution_count": 28
        }
      ]
    },
    {
      "cell_type": "markdown",
      "source": [
        "Observando as entradas acima que contém na coluna *`nivel_6`*, consideraremos que no respectivos anos, a entidades poluidoras não poluiram. Não seria o mesmo caso do *`NaN`*, pois o valores de zero foram registrados."
      ],
      "metadata": {
        "id": "jixMHditILYE"
      }
    },
    {
      "cell_type": "markdown",
      "source": [
        "#### **Analisando entradas que contém *`emissão`* valores negativos**"
      ],
      "metadata": {
        "id": "cfRVNsyyQgHZ"
      }
    },
    {
      "cell_type": "code",
      "source": [
        "dataset_clean[dataset_clean.emissao < 0].head()"
      ],
      "metadata": {
        "colab": {
          "base_uri": "https://localhost:8080/",
          "height": 206
        },
        "id": "5O2N1yn8I9x1",
        "outputId": "cef06edf-e61c-4a68-d8fa-5d5bc3197e6f"
      },
      "execution_count": 30,
      "outputs": [
        {
          "output_type": "execute_result",
          "data": {
            "text/plain": [
              "        ano       nivel_1          nivel_2              nivel_6      gas  \\\n",
              "18350  1970  Agropecuária  Solos Manejados  Florestas Plantadas  CO2 (t)   \n",
              "18351  1971  Agropecuária  Solos Manejados  Florestas Plantadas  CO2 (t)   \n",
              "18352  1972  Agropecuária  Solos Manejados  Florestas Plantadas  CO2 (t)   \n",
              "18353  1973  Agropecuária  Solos Manejados  Florestas Plantadas  CO2 (t)   \n",
              "18354  1974  Agropecuária  Solos Manejados  Florestas Plantadas  CO2 (t)   \n",
              "\n",
              "            emissao  \n",
              "18350 -3.899310e+06  \n",
              "18351 -3.899310e+06  \n",
              "18352 -3.899310e+06  \n",
              "18353 -3.899310e+06  \n",
              "18354 -3.899310e+06  "
            ],
            "text/html": [
              "\n",
              "  <div id=\"df-83cb1082-593d-44ba-a8d1-91ac9396d40a\">\n",
              "    <div class=\"colab-df-container\">\n",
              "      <div>\n",
              "<style scoped>\n",
              "    .dataframe tbody tr th:only-of-type {\n",
              "        vertical-align: middle;\n",
              "    }\n",
              "\n",
              "    .dataframe tbody tr th {\n",
              "        vertical-align: top;\n",
              "    }\n",
              "\n",
              "    .dataframe thead th {\n",
              "        text-align: right;\n",
              "    }\n",
              "</style>\n",
              "<table border=\"1\" class=\"dataframe\">\n",
              "  <thead>\n",
              "    <tr style=\"text-align: right;\">\n",
              "      <th></th>\n",
              "      <th>ano</th>\n",
              "      <th>nivel_1</th>\n",
              "      <th>nivel_2</th>\n",
              "      <th>nivel_6</th>\n",
              "      <th>gas</th>\n",
              "      <th>emissao</th>\n",
              "    </tr>\n",
              "  </thead>\n",
              "  <tbody>\n",
              "    <tr>\n",
              "      <th>18350</th>\n",
              "      <td>1970</td>\n",
              "      <td>Agropecuária</td>\n",
              "      <td>Solos Manejados</td>\n",
              "      <td>Florestas Plantadas</td>\n",
              "      <td>CO2 (t)</td>\n",
              "      <td>-3.899310e+06</td>\n",
              "    </tr>\n",
              "    <tr>\n",
              "      <th>18351</th>\n",
              "      <td>1971</td>\n",
              "      <td>Agropecuária</td>\n",
              "      <td>Solos Manejados</td>\n",
              "      <td>Florestas Plantadas</td>\n",
              "      <td>CO2 (t)</td>\n",
              "      <td>-3.899310e+06</td>\n",
              "    </tr>\n",
              "    <tr>\n",
              "      <th>18352</th>\n",
              "      <td>1972</td>\n",
              "      <td>Agropecuária</td>\n",
              "      <td>Solos Manejados</td>\n",
              "      <td>Florestas Plantadas</td>\n",
              "      <td>CO2 (t)</td>\n",
              "      <td>-3.899310e+06</td>\n",
              "    </tr>\n",
              "    <tr>\n",
              "      <th>18353</th>\n",
              "      <td>1973</td>\n",
              "      <td>Agropecuária</td>\n",
              "      <td>Solos Manejados</td>\n",
              "      <td>Florestas Plantadas</td>\n",
              "      <td>CO2 (t)</td>\n",
              "      <td>-3.899310e+06</td>\n",
              "    </tr>\n",
              "    <tr>\n",
              "      <th>18354</th>\n",
              "      <td>1974</td>\n",
              "      <td>Agropecuária</td>\n",
              "      <td>Solos Manejados</td>\n",
              "      <td>Florestas Plantadas</td>\n",
              "      <td>CO2 (t)</td>\n",
              "      <td>-3.899310e+06</td>\n",
              "    </tr>\n",
              "  </tbody>\n",
              "</table>\n",
              "</div>\n",
              "      <button class=\"colab-df-convert\" onclick=\"convertToInteractive('df-83cb1082-593d-44ba-a8d1-91ac9396d40a')\"\n",
              "              title=\"Convert this dataframe to an interactive table.\"\n",
              "              style=\"display:none;\">\n",
              "        \n",
              "  <svg xmlns=\"http://www.w3.org/2000/svg\" height=\"24px\"viewBox=\"0 0 24 24\"\n",
              "       width=\"24px\">\n",
              "    <path d=\"M0 0h24v24H0V0z\" fill=\"none\"/>\n",
              "    <path d=\"M18.56 5.44l.94 2.06.94-2.06 2.06-.94-2.06-.94-.94-2.06-.94 2.06-2.06.94zm-11 1L8.5 8.5l.94-2.06 2.06-.94-2.06-.94L8.5 2.5l-.94 2.06-2.06.94zm10 10l.94 2.06.94-2.06 2.06-.94-2.06-.94-.94-2.06-.94 2.06-2.06.94z\"/><path d=\"M17.41 7.96l-1.37-1.37c-.4-.4-.92-.59-1.43-.59-.52 0-1.04.2-1.43.59L10.3 9.45l-7.72 7.72c-.78.78-.78 2.05 0 2.83L4 21.41c.39.39.9.59 1.41.59.51 0 1.02-.2 1.41-.59l7.78-7.78 2.81-2.81c.8-.78.8-2.07 0-2.86zM5.41 20L4 18.59l7.72-7.72 1.47 1.35L5.41 20z\"/>\n",
              "  </svg>\n",
              "      </button>\n",
              "      \n",
              "  <style>\n",
              "    .colab-df-container {\n",
              "      display:flex;\n",
              "      flex-wrap:wrap;\n",
              "      gap: 12px;\n",
              "    }\n",
              "\n",
              "    .colab-df-convert {\n",
              "      background-color: #E8F0FE;\n",
              "      border: none;\n",
              "      border-radius: 50%;\n",
              "      cursor: pointer;\n",
              "      display: none;\n",
              "      fill: #1967D2;\n",
              "      height: 32px;\n",
              "      padding: 0 0 0 0;\n",
              "      width: 32px;\n",
              "    }\n",
              "\n",
              "    .colab-df-convert:hover {\n",
              "      background-color: #E2EBFA;\n",
              "      box-shadow: 0px 1px 2px rgba(60, 64, 67, 0.3), 0px 1px 3px 1px rgba(60, 64, 67, 0.15);\n",
              "      fill: #174EA6;\n",
              "    }\n",
              "\n",
              "    [theme=dark] .colab-df-convert {\n",
              "      background-color: #3B4455;\n",
              "      fill: #D2E3FC;\n",
              "    }\n",
              "\n",
              "    [theme=dark] .colab-df-convert:hover {\n",
              "      background-color: #434B5C;\n",
              "      box-shadow: 0px 1px 3px 1px rgba(0, 0, 0, 0.15);\n",
              "      filter: drop-shadow(0px 1px 2px rgba(0, 0, 0, 0.3));\n",
              "      fill: #FFFFFF;\n",
              "    }\n",
              "  </style>\n",
              "\n",
              "      <script>\n",
              "        const buttonEl =\n",
              "          document.querySelector('#df-83cb1082-593d-44ba-a8d1-91ac9396d40a button.colab-df-convert');\n",
              "        buttonEl.style.display =\n",
              "          google.colab.kernel.accessAllowed ? 'block' : 'none';\n",
              "\n",
              "        async function convertToInteractive(key) {\n",
              "          const element = document.querySelector('#df-83cb1082-593d-44ba-a8d1-91ac9396d40a');\n",
              "          const dataTable =\n",
              "            await google.colab.kernel.invokeFunction('convertToInteractive',\n",
              "                                                     [key], {});\n",
              "          if (!dataTable) return;\n",
              "\n",
              "          const docLinkHtml = 'Like what you see? Visit the ' +\n",
              "            '<a target=\"_blank\" href=https://colab.research.google.com/notebooks/data_table.ipynb>data table notebook</a>'\n",
              "            + ' to learn more about interactive tables.';\n",
              "          element.innerHTML = '';\n",
              "          dataTable['output_type'] = 'display_data';\n",
              "          await google.colab.output.renderOutput(dataTable, element);\n",
              "          const docLink = document.createElement('div');\n",
              "          docLink.innerHTML = docLinkHtml;\n",
              "          element.appendChild(docLink);\n",
              "        }\n",
              "      </script>\n",
              "    </div>\n",
              "  </div>\n",
              "  "
            ]
          },
          "metadata": {},
          "execution_count": 30
        }
      ]
    },
    {
      "cell_type": "code",
      "source": [
        "dataset_clean[dataset_clean.emissao < 0].nivel_6.unique()"
      ],
      "metadata": {
        "colab": {
          "base_uri": "https://localhost:8080/"
        },
        "id": "nUGfwr3FTmFI",
        "outputId": "6d5cdd6c-bec2-4b7e-cc2a-2ccf5005d243"
      },
      "execution_count": 31,
      "outputs": [
        {
          "output_type": "execute_result",
          "data": {
            "text/plain": [
              "array(['Florestas Plantadas',\n",
              "       'Lavouras Cultivadas sob Sistema Plantio Direto',\n",
              "       'Pastagem Bem Manejada',\n",
              "       'Sistemas Integrados Lavoura-Pecuária-Floresta',\n",
              "       'Uso agropecuário -- Silvicultura', 'NÃO SE APLICA',\n",
              "       'Floresta primária -- Floresta primária',\n",
              "       'Vegetação não florestal primária -- Vegetação não florestal primária',\n",
              "       'Vegetação não florestal secundária -- Silvicultura',\n",
              "       'Uso agropecuário -- Uso agropecuário',\n",
              "       'Área sem vegetação -- Uso agropecuário',\n",
              "       'Área sem vegetação -- Silvicultura',\n",
              "       'Floresta secundária -- Silvicultura',\n",
              "       'Uso agropecuário -- Floresta secundária',\n",
              "       'Vegetação não florestal secundária -- Uso agropecuário',\n",
              "       'Vegetação não florestal primária -- Silvicultura',\n",
              "       'Área sem vegetação -- Floresta secundária',\n",
              "       'Área sem vegetação -- Vegetação não florestal secundária',\n",
              "       'Floresta secundária -- Floresta secundária',\n",
              "       'Vegetação não florestal secundária -- Vegetação não florestal secundária'],\n",
              "      dtype=object)"
            ]
          },
          "metadata": {},
          "execution_count": 31
        }
      ]
    },
    {
      "cell_type": "markdown",
      "source": [
        "Neste conjunto de dados, consideraremos que as entidades poluidoras que tem os valores na coluna *`emissao`* retirarão o respectivo gás da atmosfera. Um exemplo é a *`Floresta primária -- Floresta primária`*, que se encontra na coluna *`nivel_6`*. O mesmo, como é uma floresta em crescimento, utiliza do CO2 para realizar a fotossíntese, assim, removendo uma certa quantidade do gás da atmosfera."
      ],
      "metadata": {
        "id": "cEMnRdF1TsfG"
      }
    },
    {
      "cell_type": "markdown",
      "source": [
        "### **Análise gráfica e insights concluídos**\n",
        "---"
      ],
      "metadata": {
        "id": "PQMLvQJO8Owd"
      }
    },
    {
      "cell_type": "markdown",
      "source": [
        "| CONTINUAR A VISUALIZAÇÃO DOS DADOS EM GRÁFICOS. |"
      ],
      "metadata": {
        "id": "4NUJ2r-sJbCC"
      }
    },
    {
      "cell_type": "code",
      "source": [
        "'''\n",
        "x_anos = dataset.ano.values\n",
        "x_emissoes = dataset.emissao.values\n",
        "fig = dataset.ano.hist(title='Distribuição das entradas da coluna ANO')\n",
        "fig.show()\n",
        "'''"
      ],
      "metadata": {
        "colab": {
          "base_uri": "https://localhost:8080/",
          "height": 35
        },
        "id": "MjysGFY4D_vm",
        "outputId": "610f0be7-606b-44e7-e9c0-a940f8607f24"
      },
      "execution_count": 29,
      "outputs": [
        {
          "output_type": "execute_result",
          "data": {
            "text/plain": [
              "\"\\nx_anos = dataset.ano.values\\nx_emissoes = dataset.emissao.values\\nfig = dataset.ano.hist(title='Distribuição das entradas da coluna ANO')\\nfig.show()\\n\""
            ],
            "application/vnd.google.colaboratory.intrinsic+json": {
              "type": "string"
            }
          },
          "metadata": {},
          "execution_count": 29
        }
      ]
    }
  ]
}